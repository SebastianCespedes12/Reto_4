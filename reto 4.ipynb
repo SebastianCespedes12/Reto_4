{
 "cells": [
  {
   "cell_type": "markdown",
   "metadata": {},
   "source": [
    ">1.Dado un número entero, determinar si ese número corresponde al código ASCII de una vocal minúscula."
   ]
  },
  {
   "cell_type": "code",
   "execution_count": null,
   "metadata": {},
   "outputs": [],
   "source": [
    "n : int = int(input(\"Numero entero: \"))\n",
    "if n == 97 or n == 101 or n == 105 or n == 111 or n == 117 : #97=a, 101=e, 105=i, 111=0, 117=u\n",
    "    print(str(n)+ \" corresponde al código ASCII de la vocal minúscula: \"+ chr(n))\n",
    "else :\n",
    "    print(str(n) + \" no corresponde al código ASCII de una vocal minúscula\")"
   ]
  },
  {
   "cell_type": "markdown",
   "metadata": {},
   "source": [
    ">2.Dada una cadena de longitud 1, determine si el código ASCII de primera letra de la cadena es par o no."
   ]
  },
  {
   "cell_type": "code",
   "execution_count": null,
   "metadata": {},
   "outputs": [],
   "source": [
    "n = ord(input(\"Cadena de longitud 1\"))\n",
    "if n%2 == 0 :\n",
    "    print(\"El código ASCII de la primera letra de la cadena es par\")\n",
    "else :\n",
    "    print(\"el código ASCII de la primera letra de la cadena no es par\")"
   ]
  },
  {
   "cell_type": "markdown",
   "metadata": {},
   "source": [
    ">3.Dado un carácter, construya un programa en Python para determinar si el carácter es un dígito o no."
   ]
  },
  {
   "cell_type": "code",
   "execution_count": null,
   "metadata": {},
   "outputs": [],
   "source": [
    "n = ord(input(\"Un caracter\"))\n",
    "if n>=48 and n<=57 :\n",
    "\t\tprint(\"El caracter es un digito\")\n",
    "else :\n",
    "    print(\"El carácter no es un digito\")"
   ]
  },
  {
   "cell_type": "markdown",
   "metadata": {},
   "source": [
    ">4.Dado un número real x, construya un programa que permita determinar si el número es positivo, negativo o cero. Para cada caso de debe imprimir el texto que se especifica a continuación:\n",
    "Positivo: \"El número x es positivo\"\n",
    "Negativo: \"El número x es negativo\"\n",
    "Cero (0): \"El número x es el neutro para la suma\""
   ]
  },
  {
   "cell_type": "code",
   "execution_count": null,
   "metadata": {},
   "outputs": [],
   "source": [
    "x : float = float(input(\"Ingrese número real\"))\n",
    "if x > 0 :\n",
    "    print(\"El número x es positivo\")\n",
    "elif x < 0 :\n",
    "    print(\"El número x es negativo\")\n",
    "else :\n",
    "    print(\"El número x es el neutro para la suma\")"
   ]
  },
  {
   "cell_type": "markdown",
   "metadata": {},
   "source": [
    ">5.Dado el centro y el radio de un círculo, determinar si un punto de R2 pertenece o no al interior del círculo."
   ]
  },
  {
   "cell_type": "code",
   "execution_count": null,
   "metadata": {},
   "outputs": [],
   "source": [
    "punto_x :float  = float(input(\"coordenada de punto en x: \"))\n",
    "punto_y : float = float(input(\"coordenada de punto en y: \"))\n",
    "centro_x : float = float(input(\"Centro del cirulo en x: \"))\n",
    "centro_y : float = float(input(\"Centro de circulo en y: \"))\n",
    "radio : float =  float(input(\"Radio del circulo: \"))\n",
    "if (punto_x-centro_x)**2 + (punto_y-centro_y)**2 < radio**2 : \n",
    "    print(\"El punto pertenece al interior del circulo\")\n",
    "else :\n",
    "    print(\"El punto no  pertenece al interior del circulo\")\n"
   ]
  },
  {
   "cell_type": "markdown",
   "metadata": {},
   "source": [
    ">6.Dadas tres longitudes positivas, determinar si con esas longitudes se puede construir un triángulo.\n",
    "\n"
   ]
  },
  {
   "cell_type": "code",
   "execution_count": null,
   "metadata": {},
   "outputs": [],
   "source": [
    "lado_1 : int = int(input(\"Longitud positiva del lado 1\"))\n",
    "lado_2 : int = int(input(\"Longitud positiva del lado 2\"))\n",
    "lado_3 : int = int(input(\"Longitud positiva del lado 3\"))\n",
    "if lado_1 + lado_2 >lado_3 :\n",
    "    print(\"se puede construir un triangulo\")\n",
    "else :\n",
    "    print(\"No se puede construir un triangulo\")"
   ]
  }
 ],
 "metadata": {
  "kernelspec": {
   "display_name": "Python 3",
   "language": "python",
   "name": "python3"
  },
  "language_info": {
   "codemirror_mode": {
    "name": "ipython",
    "version": 3
   },
   "file_extension": ".py",
   "mimetype": "text/x-python",
   "name": "python",
   "nbconvert_exporter": "python",
   "pygments_lexer": "ipython3",
   "version": "3.11.5"
  }
 },
 "nbformat": 4,
 "nbformat_minor": 2
}
